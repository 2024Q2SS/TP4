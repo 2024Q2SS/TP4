{
 "cells": [
  {
   "cell_type": "code",
   "execution_count": 1,
   "id": "c8acb8c0-6dd1-4092-88f6-7b073f1ac1a2",
   "metadata": {},
   "outputs": [
    {
     "name": "stdout",
     "output_type": "stream",
     "text": [
      "     t    r    v    a\n",
      "0  0.0  0.0  0.0  0.0\n",
      "1  0.0  0.0  0.0  0.0\n",
      "2  0.0  0.0  0.0  0.0\n",
      "3  0.0  0.0  0.0  0.0\n",
      "4  0.0  0.0  0.0  0.0\n"
     ]
    }
   ],
   "source": [
    "import pandas as pd\n",
    "\n",
    "# Cargar el archivo CSV\n",
    "file_path = '../DM/output.csv'  # Reemplaza con la ruta a tu archivo CSV\n",
    "data = pd.read_csv(file_path)\n",
    "\n",
    "# Mostrar las primeras filas del dataframe para verificar la carga\n",
    "print(data.head())\n"
   ]
  },
  {
   "cell_type": "code",
   "execution_count": 2,
   "id": "85631c5a-a035-4c16-b579-f6f865690f14",
   "metadata": {},
   "outputs": [],
   "source": [
    "import matplotlib.pyplot as plt\n",
    "import numpy as np\n",
    "\n",
    "# Extraer los tiempos únicos y seleccionar solo cada décimo (cada 0.01 segundos)\n",
    "time_steps = data['t'].unique()  # Tiempos únicos\n",
    "time_steps = time_steps[::5]  # Tomar cada décimo\n",
    "num_oscillators = 100  # Número de osciladores\n",
    "\n",
    "positions = data['r'].unique()\n",
    "min_position = min(positions)\n",
    "max_position = max(positions)\n",
    "# Dividir los time_steps en 5 partes\n",
    "chunk_size = len(time_steps) // 5\n",
    "time_step_chunks = [time_steps[i * chunk_size:(i + 1) * chunk_size] for i in range(5)]\n",
    "# Crear gráficos de las posiciones de los osciladores"
   ]
  },
  {
   "cell_type": "code",
   "execution_count": 3,
   "id": "6135f27b-724c-4587-a5ab-2054b09a8d6b",
   "metadata": {},
   "outputs": [],
   "source": [
    "for t in time_step_chunks[0]:\n",
    "    positions = data[data['t'] == t].iloc[:, 1].values  # Obtener las posiciones para el tiempo t\n",
    "\n",
    "    # Crear el gráfico de dispersión\n",
    "    plt.figure(figsize=(10, 5))\n",
    "    plt.errorbar(np.arange(num_oscillators) * 0.001, positions, fmt='o-')  # Ajusta el error como desees\n",
    "    plt.title(f'Posiciones de los osciladores en t = {t:.4f} s')  # Mostrar el tiempo en centésimas de segundo\n",
    "    plt.xlabel('Posición en X(m)')\n",
    "    plt.ylabel('Posicion en Y(m)')\n",
    "    plt.xlim(-0.01, num_oscillators * 0.001 + 0.01)  # Ajustar límites x según sea necesario\n",
    "    plt.ylim(min_position - 0.01, max_position + 0.01)  # Ajustar límites y según sea necesario\n",
    "    plt.savefig(f'blob/grafico_t_{t:.4f}.png')  # Guardar la figura con el tiempo en centésimas\n",
    "    plt.close()  # Cerrar la figura para liberar memoria\n"
   ]
  },
  {
   "cell_type": "code",
   "execution_count": 4,
   "id": "fafced4b-d986-4192-a8f5-2b2796d9d286",
   "metadata": {},
   "outputs": [],
   "source": [
    "for t in time_step_chunks[1]:\n",
    "    positions = data[data['t'] == t].iloc[:, 1].values  # Obtener las posiciones para el tiempo t\n",
    "\n",
    "    # Crear el gráfico de dispersión\n",
    "    plt.figure(figsize=(10, 5))\n",
    "    plt.errorbar(np.arange(num_oscillators) * 0.001, positions, fmt='o-')  # Ajusta el error como desees\n",
    "    plt.title(f'Posiciones de los osciladores en t = {t:.4f} s')  # Mostrar el tiempo en centésimas de segundo\n",
    "    plt.xlabel('Posición en X(m)')\n",
    "    plt.ylabel('Posicion en Y(m)')\n",
    "    plt.xlim(-0.01, num_oscillators * 0.001 + 0.01)  # Ajustar límites x según sea necesario\n",
    "    plt.ylim(min_position - 0.01, max_position + 0.01)  # Ajustar límites y según sea necesario\n",
    "    plt.savefig(f'blob/grafico_t_{t:.4f}.png')  # Guardar la figura con el tiempo en centésimas\n",
    "    plt.close()  # Cerrar la figura para liberar memoria"
   ]
  },
  {
   "cell_type": "code",
   "execution_count": 5,
   "id": "b5e5019d-8651-41c8-9a86-d9ae0d62fad3",
   "metadata": {},
   "outputs": [],
   "source": [
    "for t in time_step_chunks[2]:\n",
    "    positions = data[data['t'] == t].iloc[:, 1].values  # Obtener las posiciones para el tiempo t\n",
    "\n",
    "    # Crear el gráfico de dispersión\n",
    "    plt.figure(figsize=(10, 5))\n",
    "    plt.errorbar(np.arange(num_oscillators) * 0.001, positions, fmt='o-')  # Ajusta el error como desees\n",
    "    plt.title(f'Posiciones de los osciladores en t = {t:.4f} s')  # Mostrar el tiempo en centésimas de segundo\n",
    "    plt.xlabel('Posición en X(m)')\n",
    "    plt.ylabel('Posicion en Y(m)')\n",
    "    plt.xlim(-0.01, num_oscillators * 0.001 + 0.01)  # Ajustar límites x según sea necesario\n",
    "    plt.ylim(min_position - 0.01, max_position + 0.01)  # Ajustar límites y según sea necesario\n",
    "    plt.savefig(f'blob/grafico_t_{t:.4f}.png')  # Guardar la figura con el tiempo en centésimas\n",
    "    plt.close()  # Cerrar la figura para liberar memoria"
   ]
  },
  {
   "cell_type": "code",
   "execution_count": 6,
   "id": "e463f04f-40e1-44c6-aef0-8306dfcc551f",
   "metadata": {},
   "outputs": [],
   "source": [
    "for t in time_step_chunks[3]:\n",
    "    positions = data[data['t'] == t].iloc[:, 1].values  # Obtener las posiciones para el tiempo t\n",
    "\n",
    "    # Crear el gráfico de dispersión\n",
    "    plt.figure(figsize=(10, 5))\n",
    "    plt.errorbar(np.arange(num_oscillators) * 0.001, positions, fmt='o-')  # Ajusta el error como desees\n",
    "    plt.title(f'Posiciones de los osciladores en t = {t:.4f} s')  # Mostrar el tiempo en centésimas de segundo\n",
    "    plt.xlabel('Posición en X(m)')\n",
    "    plt.ylabel('Posicion en Y(m)')\n",
    "    plt.xlim(-0.01, num_oscillators * 0.001 + 0.01)  # Ajustar límites x según sea necesario\n",
    "    plt.ylim(min_position - 0.01, max_position + 0.01)  # Ajustar límites y según sea necesario\n",
    "    plt.savefig(f'blob/grafico_t_{t:.4f}.png')  # Guardar la figura con el tiempo en centésimas\n",
    "    plt.close()  # Cerrar la figura para liberar memoria"
   ]
  },
  {
   "cell_type": "code",
   "execution_count": 7,
   "id": "c5edb44c-1ab8-4564-8b2d-4950bb8dc9c7",
   "metadata": {},
   "outputs": [],
   "source": [
    "for t in time_step_chunks[4]:\n",
    "    positions = data[data['t'] == t].iloc[:, 1].values  # Obtener las posiciones para el tiempo t\n",
    "\n",
    "    # Crear el gráfico de dispersión\n",
    "    plt.figure(figsize=(10, 5))\n",
    "    plt.errorbar(np.arange(num_oscillators) * 0.001, positions, fmt='o-')  # Ajusta el error como desees\n",
    "    plt.title(f'Posiciones de los osciladores en t = {t:.4f} s')  # Mostrar el tiempo en centésimas de segundo\n",
    "    plt.xlabel('Posición en X(m)')\n",
    "    plt.ylabel('Posicion en Y(m)')\n",
    "    plt.xlim(-0.01, num_oscillators * 0.001 + 0.01)  # Ajustar límites x según sea necesario\n",
    "    plt.ylim(min_position - 0.01, max_position + 0.01)  # Ajustar límites y según sea necesario\n",
    "    plt.savefig(f'blob/grafico_t_{t:.4f}.png')  # Guardar la figura con el tiempo en centésimas\n",
    "    plt.close()  # Cerrar la figura para liberar memoria"
   ]
  },
  {
   "cell_type": "code",
   "execution_count": 8,
   "id": "796b7786-6f8c-4ec4-b34b-7250c07a8d79",
   "metadata": {},
   "outputs": [
    {
     "name": "stderr",
     "output_type": "stream",
     "text": [
      "Processing images: 100%|██████████| 10000/10000 [01:47<00:00, 92.73it/s]\n"
     ]
    },
    {
     "name": "stdout",
     "output_type": "stream",
     "text": [
      "Video created successfully: video_osciladores.mp4\n"
     ]
    }
   ],
   "source": [
    "import glob\n",
    "import os\n",
    "import imageio.v2 as imageio\n",
    "from tqdm import tqdm\n",
    "\n",
    "def create_video(input_pattern, output_file, fps=30):\n",
    "    # Create a list of images\n",
    "    images = sorted(glob.glob(input_pattern), key=lambda x: float(x.split('_')[-1][:-4]))\n",
    "    \n",
    "    # Check if images were found\n",
    "    if not images:\n",
    "        print(f\"No images found matching the pattern: {input_pattern}\")\n",
    "        return False\n",
    "\n",
    "    try:\n",
    "        # Get the first image to determine dimensions\n",
    "        first_image = imageio.imread(images[0])\n",
    "        height, width = first_image.shape[:2]\n",
    "\n",
    "        # Create a writer object\n",
    "        writer = imageio.get_writer(output_file, fps=fps, macro_block_size=None)\n",
    "\n",
    "        # Read and write images\n",
    "        for image_path in tqdm(images, desc=\"Processing images\"):\n",
    "            image = imageio.imread(image_path)\n",
    "            writer.append_data(image)\n",
    "\n",
    "        # Close the writer\n",
    "        writer.close()\n",
    "        \n",
    "        print(f\"Video created successfully: {output_file}\")\n",
    "        return True\n",
    "    except Exception as e:\n",
    "        print(f\"An error occurred while creating the video: {e}\")\n",
    "        return False\n",
    "\n",
    "# Usage\n",
    "input_pattern = \"blob/grafico_t_*.png\"\n",
    "output_file = 'video_osciladores.mp4'\n",
    "success = create_video(input_pattern, output_file)\n"
   ]
  },
  {
   "cell_type": "code",
   "execution_count": 9,
   "id": "1f1fb467-1239-4bc7-91a8-ef66a177d2cb",
   "metadata": {},
   "outputs": [
    {
     "data": {
      "text/html": [
       "<video src=\"video_osciladores.mp4\" controls  >\n",
       "      Your browser does not support the <code>video</code> element.\n",
       "    </video>"
      ],
      "text/plain": [
       "<IPython.core.display.Video object>"
      ]
     },
     "execution_count": 9,
     "metadata": {},
     "output_type": "execute_result"
    }
   ],
   "source": [
    "from IPython.display import Video\n",
    "url = 'video_osciladores.mp4'\n",
    "Video(url)"
   ]
  },
  {
   "cell_type": "code",
   "execution_count": null,
   "id": "e5023e42-1b98-4a3d-9ad4-7a74687146b0",
   "metadata": {},
   "outputs": [],
   "source": []
  }
 ],
 "metadata": {
  "kernelspec": {
   "display_name": "Python 3 (ipykernel)",
   "language": "python",
   "name": "python3"
  },
  "language_info": {
   "codemirror_mode": {
    "name": "ipython",
    "version": 3
   },
   "file_extension": ".py",
   "mimetype": "text/x-python",
   "name": "python",
   "nbconvert_exporter": "python",
   "pygments_lexer": "ipython3",
   "version": "3.11.6"
  }
 },
 "nbformat": 4,
 "nbformat_minor": 5
}
